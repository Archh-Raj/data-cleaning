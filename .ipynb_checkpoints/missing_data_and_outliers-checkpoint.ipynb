{
 "cells": [
  {
   "cell_type": "markdown",
   "id": "c9d0fad4-3c2e-4662-a2b8-74aab2997326",
   "metadata": {},
   "source": [
    "# Missing Data & Outliers"
   ]
  },
  {
   "cell_type": "markdown",
   "id": "67b2d890-ef85-4759-be8c-14799221b555",
   "metadata": {},
   "source": [
    "How can you find out the impact of outliers?\n",
    "\n",
    "like some outliers have large impact on the output but some have low"
   ]
  },
  {
   "cell_type": "markdown",
   "id": "9602e193-ef89-4565-8f86-da385366ff5d",
   "metadata": {},
   "source": [
    "## Strategy to eliminate outliers\n",
    "\n",
    "    1. Eliminate outliers before doing analysis, assuming all outliers are invalid\n",
    "    2. use robust method to eliminate the impact of the outliers in the data, assuming outliers are unusual but valid\n",
    "    (what are the techiniques)"
   ]
  },
  {
   "cell_type": "markdown",
   "id": "fff91932-f59c-4edc-bd85-1ed6f58c3d67",
   "metadata": {},
   "source": [
    "### Never remove outliers without thought or without investigating or evaluating"
   ]
  },
  {
   "cell_type": "markdown",
   "id": "f50a6aaa-a37b-4459-ac19-3bb3ac01f637",
   "metadata": {},
   "source": [
    "## Z-Score Method"
   ]
  },
  {
   "cell_type": "markdown",
   "id": "11df5dea-90ef-4261-b872-a65e69aa370b",
   "metadata": {},
   "source": [
    "Assuming the distribution is valid that is guassian"
   ]
  },
  {
   "cell_type": "markdown",
   "id": "95214fa7-1166-4194-8396-6c2ac2a870b9",
   "metadata": {},
   "source": [
    "Algorithm:\n",
    "\n",
    "    1. convert data to z score\n",
    "    2. datapoint is outlier if it exceeds the certain standard deviation threshold(often 3 and -3, but this is orbitrary)"
   ]
  },
  {
   "cell_type": "markdown",
   "id": "1df5df44-b52e-4a2d-8c86-2b9dedf2b761",
   "metadata": {},
   "source": [
    "Note: z-transform is lossless transform(i.e., we are not changing the distribution)"
   ]
  },
  {
   "cell_type": "markdown",
   "id": "ba24fdef-83dd-4620-9126-6e7de5968ef3",
   "metadata": {},
   "source": [
    "Iterative Algorithm:\n",
    "\n",
    "    after removing the outliers repeat the process again and again"
   ]
  },
  {
   "cell_type": "markdown",
   "id": "8045f48e-431b-415d-8be9-e171f423821d",
   "metadata": {},
   "source": [
    "## Modified Z-Score method"
   ]
  },
  {
   "cell_type": "markdown",
   "id": "0a733592-608d-4cb4-bb9b-d0634d3e00a2",
   "metadata": {},
   "source": [
    "If the distribution is non-normal then we can use this method"
   ]
  },
  {
   "cell_type": "markdown",
   "id": "a9f5c8c0-f787-4b03-836b-16245ca4195d",
   "metadata": {},
   "source": [
    "instead of z-score formula use modifier z-score formula"
   ]
  },
  {
   "cell_type": "markdown",
   "id": "49dc0c5c-dfbe-40d4-a2d7-b41e40b2b23b",
   "metadata": {},
   "source": [
    "# Missing Data"
   ]
  },
  {
   "cell_type": "markdown",
   "id": "49772429-326f-4760-b2f3-d743bcca5517",
   "metadata": {},
   "source": [
    "    1. complete removal of row\n",
    "    2. selective removal\n",
    "    3. replacement\n",
    "    4. predict"
   ]
  },
  {
   "cell_type": "code",
   "execution_count": null,
   "id": "851079db-0de3-4600-8da8-151dc114c75b",
   "metadata": {},
   "outputs": [],
   "source": []
  }
 ],
 "metadata": {
  "kernelspec": {
   "display_name": "Python [conda env:base] *",
   "language": "python",
   "name": "conda-base-py"
  },
  "language_info": {
   "codemirror_mode": {
    "name": "ipython",
    "version": 3
   },
   "file_extension": ".py",
   "mimetype": "text/x-python",
   "name": "python",
   "nbconvert_exporter": "python",
   "pygments_lexer": "ipython3",
   "version": "3.13.5"
  }
 },
 "nbformat": 4,
 "nbformat_minor": 5
}
